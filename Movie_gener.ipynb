{
  "nbformat": 4,
  "nbformat_minor": 0,
  "metadata": {
    "colab": {
      "provenance": [],
      "authorship_tag": "ABX9TyMxj39YVcQDSSwkLEZJ/3iM",
      "include_colab_link": true
    },
    "kernelspec": {
      "name": "python3",
      "display_name": "Python 3"
    },
    "language_info": {
      "name": "python"
    }
  },
  "cells": [
    {
      "cell_type": "markdown",
      "metadata": {
        "id": "view-in-github",
        "colab_type": "text"
      },
      "source": [
        "<a href=\"https://colab.research.google.com/github/Aman-pr/Indo-Machine-learning-/blob/main/Movie_gener.ipynb\" target=\"_parent\"><img src=\"https://colab.research.google.com/assets/colab-badge.svg\" alt=\"Open In Colab\"/></a>"
      ]
    },
    {
      "cell_type": "code",
      "source": [
        "import pandas as pd\n",
        "import numpy as np\n",
        "import matplotlib.pyplot as plt\n",
        "import seaborn as sns\n",
        "from sklearn.model_selection import train_test_split\n",
        "from sklearn.feature_extraction.text import TfidfVectorizer\n",
        "from sklearn.tree import DecisionTreeClassifier\n",
        "from sklearn.linear_model import LogisticRegression\n",
        "from sklearn.metrics import classification_report, f1_score\n",
        "from imblearn.over_sampling import SMOTE\n",
        "from sklearn.preprocessing import LabelEncoder"
      ],
      "metadata": {
        "id": "B4nOVuZd5KG_"
      },
      "execution_count": 55,
      "outputs": []
    },
    {
      "cell_type": "code",
      "source": [
        "train_data = pd.read_csv(\n",
        "    '/content/train_data.txt',\n",
        "    sep=':::',  # Split by ':::'\n",
        "    header=None,\n",
        "    names=['id', 'title', 'genre', 'description'],\n",
        "    engine='python'\n",
        ")\n",
        "\n",
        "print(\"Training Data:\")\n",
        "print(train_data.head())\n",
        "\n",
        "y_train = train_data['genre']\n",
        "y_test = test_data['genre']\n",
        "\n",
        "print(\"\\nMissing genres in y_train:\", y_train.isnull().sum())\n",
        "\n",
        "label_encoder = LabelEncoder()\n",
        "y_train = label_encoder.fit_transform(y_train)\n",
        "y_test = label_encoder.transform(y_test)\n",
        "\n",
        "original_genre_names = label_encoder.classes_\n",
        "print(\"\\nOriginal genre names:\", original_genre_names)"
      ],
      "metadata": {
        "colab": {
          "base_uri": "https://localhost:8080/"
        },
        "id": "xaHTNTwe5SWk",
        "outputId": "9cb902fa-6bb8-4899-e0b2-d9cae13bea4b"
      },
      "execution_count": 65,
      "outputs": [
        {
          "output_type": "stream",
          "name": "stdout",
          "text": [
            "Training Data:\n",
            "   id                               title       genre  \\\n",
            "0   1       Oscar et la dame rose (2009)       drama    \n",
            "1   2                       Cupid (1997)    thriller    \n",
            "2   3   Young, Wild and Wonderful (1980)       adult    \n",
            "3   4              The Secret Sin (1915)       drama    \n",
            "4   5             The Unrecovered (2007)       drama    \n",
            "\n",
            "                                         description  \n",
            "0   Listening in to a conversation between his do...  \n",
            "1   A brother and sister with a past incestuous r...  \n",
            "2   As the bus empties the students for their fie...  \n",
            "3   To help their unemployed father make ends mee...  \n",
            "4   The film's title refers not only to the un-re...  \n",
            "\n",
            "Missing genres in y_train: 0\n",
            "\n",
            "Original genre names: [' action ' ' adult ' ' adventure ' ' animation ' ' biography ' ' comedy '\n",
            " ' crime ' ' documentary ' ' drama ' ' family ' ' fantasy ' ' game-show '\n",
            " ' history ' ' horror ' ' music ' ' musical ' ' mystery ' ' news '\n",
            " ' reality-tv ' ' romance ' ' sci-fi ' ' short ' ' sport ' ' talk-show '\n",
            " ' thriller ' ' war ' ' western ']\n"
          ]
        }
      ]
    },
    {
      "cell_type": "code",
      "source": [
        "tfidf_vectorizer = TfidfVectorizer(max_features=5000, stop_words='english')\n",
        "X_train_tfidf = tfidf_vectorizer.fit_transform(X_train)\n",
        "X_test_tfidf = tfidf_vectorizer.transform(X_test)"
      ],
      "metadata": {
        "id": "xDUAFueZ6mSA"
      },
      "execution_count": 66,
      "outputs": []
    },
    {
      "cell_type": "code",
      "source": [
        "print(\"\\nClass Distribution Before SMOTE:\", pd.Series(y_train).value_counts())\n",
        "if len(np.unique(y_train)) > 1:\n",
        "    smote = SMOTE(random_state=42)\n",
        "    X_train_resampled, y_train_resampled = smote.fit_resample(X_train_tfidf, y_train)\n",
        "    print(\"Class Distribution After SMOTE:\", pd.Series(y_train_resampled).value_counts())\n",
        "else:\n",
        "    print(\"Skipping SMOTE: Only one class found.\")\n",
        "    X_train_resampled, y_train_resampled = X_train_tfidf, y_train\n"
      ],
      "metadata": {
        "colab": {
          "base_uri": "https://localhost:8080/"
        },
        "id": "6BcImDecPt1Y",
        "outputId": "f22cfc6c-6b68-46a7-e825-d4976e1b62cd"
      },
      "execution_count": 61,
      "outputs": [
        {
          "output_type": "stream",
          "name": "stdout",
          "text": [
            "\n",
            "Class Distribution Before SMOTE: 8     13613\n",
            "7     13096\n",
            "5      7447\n",
            "21     5073\n",
            "13     2204\n",
            "24     1591\n",
            "0      1315\n",
            "26     1032\n",
            "18      884\n",
            "9       784\n",
            "2       775\n",
            "14      731\n",
            "19      672\n",
            "20      647\n",
            "1       590\n",
            "6       505\n",
            "3       498\n",
            "22      432\n",
            "23      391\n",
            "10      323\n",
            "16      319\n",
            "15      277\n",
            "4       265\n",
            "12      243\n",
            "11      194\n",
            "17      181\n",
            "25      132\n",
            "Name: count, dtype: int64\n",
            "Class Distribution After SMOTE: 8     13613\n",
            "14    13613\n",
            "15    13613\n",
            "11    13613\n",
            "19    13613\n",
            "4     13613\n",
            "17    13613\n",
            "12    13613\n",
            "16    13613\n",
            "9     13613\n",
            "26    13613\n",
            "23    13613\n",
            "2     13613\n",
            "20    13613\n",
            "24    13613\n",
            "21    13613\n",
            "10    13613\n",
            "0     13613\n",
            "3     13613\n",
            "22    13613\n",
            "13    13613\n",
            "18    13613\n",
            "6     13613\n",
            "5     13613\n",
            "7     13613\n",
            "1     13613\n",
            "25    13613\n",
            "Name: count, dtype: int64\n"
          ]
        }
      ]
    },
    {
      "cell_type": "code",
      "source": [
        "dt_model = DecisionTreeClassifier(random_state=42)\n",
        "dt_model.fit(X_train_resampled, y_train_resampled)\n",
        "y_pred_dt = dt_model.predict(X_test_tfidf)\n",
        "print(\"\\nDecision Tree F1-Score:\", f1_score(y_test, y_pred_dt, average='weighted'))\n",
        "print(classification_report(y_test, y_pred_dt, target_names=original_genre_names))"
      ],
      "metadata": {
        "colab": {
          "base_uri": "https://localhost:8080/"
        },
        "id": "6Rr3-AifRXAY",
        "outputId": "17b78084-741a-434c-9e81-d8ea34848de6"
      },
      "execution_count": 62,
      "outputs": [
        {
          "output_type": "stream",
          "name": "stdout",
          "text": [
            "\n",
            "Decision Tree F1-Score: 0.32867925467630305\n",
            "               precision    recall  f1-score   support\n",
            "\n",
            "      action        0.12      0.12      0.12      1314\n",
            "       adult        0.22      0.31      0.25       590\n",
            "   adventure        0.16      0.15      0.16       775\n",
            "   animation        0.11      0.12      0.11       498\n",
            "   biography        0.02      0.03      0.02       264\n",
            "      comedy        0.29      0.28      0.29      7446\n",
            "       crime        0.08      0.10      0.09       505\n",
            " documentary        0.52      0.47      0.50     13096\n",
            "       drama        0.40      0.36      0.38     13612\n",
            "      family        0.07      0.07      0.07       783\n",
            "     fantasy        0.05      0.05      0.05       322\n",
            "   game-show        0.49      0.49      0.49       193\n",
            "     history        0.03      0.05      0.04       243\n",
            "      horror        0.27      0.28      0.28      2204\n",
            "       music        0.30      0.39      0.34       731\n",
            "     musical        0.09      0.17      0.11       276\n",
            "     mystery        0.06      0.06      0.06       318\n",
            "        news        0.13      0.17      0.14       181\n",
            "  reality-tv        0.12      0.15      0.13       883\n",
            "     romance        0.08      0.14      0.10       672\n",
            "      sci-fi        0.16      0.18      0.17       646\n",
            "       short        0.21      0.22      0.21      5072\n",
            "       sport        0.25      0.36      0.30       431\n",
            "   talk-show        0.16      0.20      0.18       391\n",
            "    thriller        0.12      0.13      0.12      1590\n",
            "         war        0.10      0.17      0.13       132\n",
            "     western        0.57      0.55      0.56      1032\n",
            "\n",
            "     accuracy                           0.32     54200\n",
            "    macro avg       0.19      0.21      0.20     54200\n",
            " weighted avg       0.34      0.32      0.33     54200\n",
            "\n"
          ]
        }
      ]
    },
    {
      "cell_type": "code",
      "source": [
        "lr_model = LogisticRegression(random_state=42, max_iter=1000)\n",
        "lr_model.fit(X_train_resampled, y_train_resampled)\n",
        "\n",
        "y_pred_lr = lr_model.predict(X_test_tfidf)\n",
        "print(\"\\nLogistic Regression F1-Score:\", f1_score(y_test, y_pred_lr, average='weighted'))\n",
        "print(classification_report(y_test, y_pred_lr, target_names=original_genre_names))"
      ],
      "metadata": {
        "colab": {
          "base_uri": "https://localhost:8080/"
        },
        "id": "DddyE3bKTYHH",
        "outputId": "10200620-e92a-4c71-e537-a3d3d69b865c"
      },
      "execution_count": 63,
      "outputs": [
        {
          "output_type": "stream",
          "name": "stdout",
          "text": [
            "\n",
            "Logistic Regression F1-Score: 0.5253512736728788\n",
            "               precision    recall  f1-score   support\n",
            "\n",
            "      action        0.31      0.44      0.36      1314\n",
            "       adult        0.38      0.55      0.45       590\n",
            "   adventure        0.19      0.30      0.24       775\n",
            "   animation        0.17      0.24      0.20       498\n",
            "   biography        0.04      0.11      0.06       264\n",
            "      comedy        0.58      0.49      0.53      7446\n",
            "       crime        0.14      0.28      0.18       505\n",
            " documentary        0.79      0.64      0.70     13096\n",
            "       drama        0.68      0.47      0.55     13612\n",
            "      family        0.15      0.30      0.20       783\n",
            "     fantasy        0.13      0.22      0.16       322\n",
            "   game-show        0.66      0.69      0.68       193\n",
            "     history        0.09      0.17      0.11       243\n",
            "      horror        0.57      0.61      0.59      2204\n",
            "       music        0.45      0.65      0.53       731\n",
            "     musical        0.14      0.24      0.18       276\n",
            "     mystery        0.10      0.16      0.12       318\n",
            "        news        0.21      0.27      0.24       181\n",
            "  reality-tv        0.27      0.44      0.34       883\n",
            "     romance        0.15      0.38      0.22       672\n",
            "      sci-fi        0.34      0.47      0.40       646\n",
            "       short        0.40      0.43      0.41      5072\n",
            "       sport        0.38      0.59      0.46       431\n",
            "   talk-show        0.30      0.45      0.36       391\n",
            "    thriller        0.22      0.32      0.26      1590\n",
            "         war        0.22      0.50      0.31       132\n",
            "     western        0.79      0.84      0.82      1032\n",
            "\n",
            "     accuracy                           0.50     54200\n",
            "    macro avg       0.33      0.42      0.36     54200\n",
            " weighted avg       0.57      0.50      0.53     54200\n",
            "\n"
          ]
        }
      ]
    },
    {
      "cell_type": "code",
      "source": [],
      "metadata": {
        "id": "5-STeAwAY20U"
      },
      "execution_count": null,
      "outputs": []
    }
  ]
}